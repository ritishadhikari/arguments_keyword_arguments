{
 "cells": [
  {
   "cell_type": "code",
   "execution_count": 1,
   "metadata": {},
   "outputs": [],
   "source": [
    "# ARGS"
   ]
  },
  {
   "cell_type": "code",
   "execution_count": 7,
   "metadata": {},
   "outputs": [],
   "source": [
    "# Printing the numbers passed in the add function:\n",
    "def add(*num):\n",
    "    print(num)"
   ]
  },
  {
   "cell_type": "code",
   "execution_count": 6,
   "metadata": {},
   "outputs": [
    {
     "name": "stdout",
     "output_type": "stream",
     "text": [
      "(5, 6, 7, 3)\n"
     ]
    }
   ],
   "source": [
    "add(5,6,7,3)"
   ]
  },
  {
   "cell_type": "code",
   "execution_count": 10,
   "metadata": {},
   "outputs": [],
   "source": [
    "# Adding the numbers passed via args\n",
    "def add(*num):\n",
    "    i=0\n",
    "    for n in num:\n",
    "        i=i+n\n",
    "    print(i)"
   ]
  },
  {
   "cell_type": "code",
   "execution_count": 11,
   "metadata": {},
   "outputs": [
    {
     "name": "stdout",
     "output_type": "stream",
     "text": [
      "26\n"
     ]
    }
   ],
   "source": [
    "add(5,6,7,8)"
   ]
  },
  {
   "cell_type": "code",
   "execution_count": null,
   "metadata": {},
   "outputs": [],
   "source": []
  },
  {
   "cell_type": "code",
   "execution_count": 12,
   "metadata": {},
   "outputs": [],
   "source": [
    "# KWARGS"
   ]
  },
  {
   "cell_type": "code",
   "execution_count": 15,
   "metadata": {},
   "outputs": [],
   "source": [
    "# Printing the Entities in key value pairs passed into the function\n",
    "def entities(**employee_details):\n",
    "    print(employee_details)"
   ]
  },
  {
   "cell_type": "code",
   "execution_count": 16,
   "metadata": {},
   "outputs": [
    {
     "name": "stdout",
     "output_type": "stream",
     "text": [
      "{'name': 'Ritish', 'employee': 'Wipro', 'location': 'Kolkata'}\n"
     ]
    }
   ],
   "source": [
    "entities(name='Ritish',employee='Wipro',location='Kolkata')"
   ]
  },
  {
   "cell_type": "code",
   "execution_count": 17,
   "metadata": {},
   "outputs": [],
   "source": [
    "# Formal Arguments are the compulsory arguments that the function call will be requiring"
   ]
  },
  {
   "cell_type": "code",
   "execution_count": 45,
   "metadata": {},
   "outputs": [],
   "source": [
    "def model_func(a,*args,**kwargs):\n",
    "    \n",
    "    print(f\"Printing the Formal Argument: {a} \")\n",
    "    print(f\"Printing the *args: {args}\")\n",
    "    print(f\"Printing the *args: {list(arg for arg in args)}\")\n",
    "    if 'name' in kwargs:\n",
    "        print(f\"Name is:{kwargs['name']}\")\n",
    "    else:\n",
    "        print(\"Name not Found\")"
   ]
  },
  {
   "cell_type": "code",
   "execution_count": 46,
   "metadata": {},
   "outputs": [
    {
     "name": "stdout",
     "output_type": "stream",
     "text": [
      "Printing the Formal Argument: 7 \n",
      "Printing the *args: (8, 9)\n",
      "Printing the *args: [8, 9]\n",
      "Name is:Ritish\n"
     ]
    }
   ],
   "source": [
    "model_func(7,8,9,name='Ritish',surname='Adhikari')"
   ]
  },
  {
   "cell_type": "code",
   "execution_count": 47,
   "metadata": {},
   "outputs": [
    {
     "name": "stdout",
     "output_type": "stream",
     "text": [
      "Printing the Formal Argument: 7 \n",
      "Printing the *args: (8, 9)\n",
      "Printing the *args: [8, 9]\n",
      "Name not Found\n"
     ]
    }
   ],
   "source": [
    "model_func(7,8,9,location='Kolkata',surname='Adhikari')"
   ]
  },
  {
   "cell_type": "code",
   "execution_count": null,
   "metadata": {},
   "outputs": [],
   "source": []
  }
 ],
 "metadata": {
  "kernelspec": {
   "display_name": "Python 3",
   "language": "python",
   "name": "python3"
  },
  "language_info": {
   "codemirror_mode": {
    "name": "ipython",
    "version": 3
   },
   "file_extension": ".py",
   "mimetype": "text/x-python",
   "name": "python",
   "nbconvert_exporter": "python",
   "pygments_lexer": "ipython3",
   "version": "3.6.5"
  }
 },
 "nbformat": 4,
 "nbformat_minor": 4
}
